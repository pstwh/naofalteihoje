{
 "cells": [
  {
   "cell_type": "code",
   "execution_count": 1,
   "metadata": {},
   "outputs": [],
   "source": [
    "import requests\n",
    "\n",
    "url = {\n",
    "    'index': \"https://sistemas.uepg.br/academicoonline/login/index\",\n",
    "    'auth': \"https://sistemas.uepg.br/academicoonline/login/authenticate\",\n",
    "    'home': \"https://sistemas.uepg.br/academicoonline\",\n",
    "    'notas': \"https://sistemas.uepg.br/academicoonline/avaliacaoDesempenho/index\"\n",
    "}\n",
    "\n",
    "user = {\n",
    "    'login': \"\",\n",
    "    'password': \"\"\n",
    "}\n",
    "\n",
    "with requests.Session() as session:\n",
    "    index = session.request(\"GET\", url['index'])\n",
    "    \n",
    "    headers = {\n",
    "        'cookie': f'JSESSIONID={requests.utils.dict_from_cookiejar(session.cookies)[\"JSESSIONID\"]}; __utma=241181661.1990841241.1518980587.1520085361.1520277780.4; __utmz=241181661.1518980587.1.1.utmcsr=(direct)|utmccn=(direct)|utmcmd=(none)',\n",
    "        'connection': 'keep-alive',\n",
    "        'upgrade-insecure-requests': \"1\"\n",
    "    }\n",
    "    \n",
    "    auth = session.request(\"POST\", url['auth'], user, headers=headers)\n",
    "    notas = session.request(\"GET\", url['notas'], headers=headers)\n"
   ]
  },
  {
   "cell_type": "code",
   "execution_count": 2,
   "metadata": {},
   "outputs": [],
   "source": [
    "from bs4 import BeautifulSoup"
   ]
  },
  {
   "cell_type": "code",
   "execution_count": 3,
   "metadata": {},
   "outputs": [],
   "source": [
    "soup = BeautifulSoup(notas.text, 'html.parser')"
   ]
  },
  {
   "cell_type": "code",
   "execution_count": 4,
   "metadata": {},
   "outputs": [],
   "source": [
    "table = soup.find('table')"
   ]
  },
  {
   "cell_type": "code",
   "execution_count": 5,
   "metadata": {},
   "outputs": [],
   "source": [
    "from IPython.core.display import HTML"
   ]
  },
  {
   "cell_type": "code",
   "execution_count": 6,
   "metadata": {},
   "outputs": [
    {
     "data": {
      "text/html": [
       "<table class=\"table table-striped table-bordered\">\n",
       "<thead>\n",
       "<tr>\n",
       "<th>Código</th>\n",
       "<th>Nome</th>\n",
       "<th>Turma</th>\n",
       "<th>Calendário</th>\n",
       "<th>Faltas</th>\n",
       "<th>Nota1</th>\n",
       "<th>Nota2</th>\n",
       "<th>NotaE</th>\n",
       "<th>Média</th>\n",
       "<th>%Freq.</th>\n",
       "<th>Cond.</th>\n",
       "</tr>\n",
       "</thead>\n",
       "<tbody>\n",
       "<tr class=\"even\">\n",
       "<td>203076</td>\n",
       "<td style=\"width: 600px;\">Orientação de Trabalho de Conclusão de Curso</td>\n",
       "<td>A</td>\n",
       "<td style=\"width: 130px;\">2018</td>\n",
       "<td>0</td>\n",
       "<td style=\"color:blue;\"></td>\n",
       "<td style=\"color:blue;\"></td>\n",
       "<td style=\"color:blue;\"></td>\n",
       "<td>0</td>\n",
       "<td>100</td>\n",
       "<td>R</td>\n",
       "</tr>\n",
       "<tr class=\"odd\">\n",
       "<td>203069</td>\n",
       "<td style=\"width: 600px;\">Empreendedorismo</td>\n",
       "<td>A</td>\n",
       "<td style=\"width: 130px;\">2018-1</td>\n",
       "<td>0</td>\n",
       "<td style=\"color:blue;\"></td>\n",
       "<td style=\"color:blue;\"></td>\n",
       "<td style=\"color:blue;\"></td>\n",
       "<td>0</td>\n",
       "<td>100</td>\n",
       "<td>R</td>\n",
       "</tr>\n",
       "<tr class=\"even\">\n",
       "<td>203070</td>\n",
       "<td style=\"width: 600px;\">Computadores e Sociedade</td>\n",
       "<td>A</td>\n",
       "<td style=\"width: 130px;\">2018-1</td>\n",
       "<td>0</td>\n",
       "<td style=\"color:blue;\"></td>\n",
       "<td style=\"color:blue;\"></td>\n",
       "<td style=\"color:blue;\"></td>\n",
       "<td>0</td>\n",
       "<td>100</td>\n",
       "<td>R</td>\n",
       "</tr>\n",
       "<tr class=\"odd\">\n",
       "<td>203082</td>\n",
       "<td style=\"width: 600px;\">Robótica</td>\n",
       "<td>A</td>\n",
       "<td style=\"width: 130px;\">2018-1</td>\n",
       "<td>4</td>\n",
       "<td style=\"color:blue;\"></td>\n",
       "<td style=\"color:blue;\"></td>\n",
       "<td style=\"color:blue;\"></td>\n",
       "<td>0</td>\n",
       "<td>94</td>\n",
       "<td>R</td>\n",
       "</tr>\n",
       "<tr class=\"even\">\n",
       "<td>203083</td>\n",
       "<td style=\"width: 600px;\">Modelagem e Simulação</td>\n",
       "<td>A</td>\n",
       "<td style=\"width: 130px;\">2018-1</td>\n",
       "<td>0</td>\n",
       "<td style=\"color:blue;\"></td>\n",
       "<td style=\"color:blue;\"></td>\n",
       "<td style=\"color:blue;\"></td>\n",
       "<td>0</td>\n",
       "<td>100</td>\n",
       "<td>R</td>\n",
       "</tr>\n",
       "<tr class=\"odd\">\n",
       "<td>404055</td>\n",
       "<td style=\"width: 600px;\">Economia</td>\n",
       "<td>A</td>\n",
       "<td style=\"width: 130px;\">2018-1</td>\n",
       "<td>0</td>\n",
       "<td style=\"color:blue;\"></td>\n",
       "<td style=\"color:blue;\"></td>\n",
       "<td style=\"color:blue;\"></td>\n",
       "<td>0</td>\n",
       "<td>100</td>\n",
       "<td>R</td>\n",
       "</tr>\n",
       "<tr class=\"even\">\n",
       "<td>203127</td>\n",
       "<td style=\"width: 600px;\">Estágio Supervisionado</td>\n",
       "<td>A</td>\n",
       "<td style=\"width: 130px;\">2018-2</td>\n",
       "<td>0</td>\n",
       "<td style=\"color:blue;\"></td>\n",
       "<td style=\"color:blue;\"></td>\n",
       "<td style=\"color:blue;\"></td>\n",
       "<td>0</td>\n",
       "<td>100</td>\n",
       "<td>R</td>\n",
       "</tr>\n",
       "</tbody>\n",
       "</table>"
      ],
      "text/plain": [
       "<IPython.core.display.HTML object>"
      ]
     },
     "execution_count": 6,
     "metadata": {},
     "output_type": "execute_result"
    }
   ],
   "source": [
    "HTML(str(table))"
   ]
  },
  {
   "cell_type": "code",
   "execution_count": 7,
   "metadata": {},
   "outputs": [],
   "source": [
    "def parse_rows(rows):\n",
    "    results = []\n",
    "    for row in rows:\n",
    "        table_headers = row.find_all('th')\n",
    "        if table_headers:\n",
    "            results.append([headers.get_text() for headers in table_headers])\n",
    "\n",
    "        table_data = row.find_all('td')\n",
    "        if table_data:\n",
    "            results.append([data.get_text() for data in table_data])\n",
    "    return results"
   ]
  },
  {
   "cell_type": "code",
   "execution_count": 8,
   "metadata": {},
   "outputs": [],
   "source": [
    "rows = table.find_all('tr')"
   ]
  },
  {
   "cell_type": "code",
   "execution_count": 9,
   "metadata": {},
   "outputs": [],
   "source": [
    "data = parse_rows(rows)"
   ]
  },
  {
   "cell_type": "code",
   "execution_count": 10,
   "metadata": {},
   "outputs": [],
   "source": [
    "import pandas as pd"
   ]
  },
  {
   "cell_type": "code",
   "execution_count": 11,
   "metadata": {},
   "outputs": [],
   "source": [
    "df = pd.DataFrame(data=data)"
   ]
  },
  {
   "cell_type": "code",
   "execution_count": 12,
   "metadata": {},
   "outputs": [
    {
     "data": {
      "text/html": [
       "<div>\n",
       "<style scoped>\n",
       "    .dataframe tbody tr th:only-of-type {\n",
       "        vertical-align: middle;\n",
       "    }\n",
       "\n",
       "    .dataframe tbody tr th {\n",
       "        vertical-align: top;\n",
       "    }\n",
       "\n",
       "    .dataframe thead th {\n",
       "        text-align: right;\n",
       "    }\n",
       "</style>\n",
       "<table border=\"1\" class=\"dataframe\">\n",
       "  <thead>\n",
       "    <tr style=\"text-align: right;\">\n",
       "      <th></th>\n",
       "      <th>0</th>\n",
       "      <th>1</th>\n",
       "      <th>2</th>\n",
       "      <th>3</th>\n",
       "      <th>4</th>\n",
       "      <th>5</th>\n",
       "      <th>6</th>\n",
       "      <th>7</th>\n",
       "      <th>8</th>\n",
       "      <th>9</th>\n",
       "      <th>10</th>\n",
       "    </tr>\n",
       "  </thead>\n",
       "  <tbody>\n",
       "    <tr>\n",
       "      <th>0</th>\n",
       "      <td>Código</td>\n",
       "      <td>Nome</td>\n",
       "      <td>Turma</td>\n",
       "      <td>Calendário</td>\n",
       "      <td>Faltas</td>\n",
       "      <td>Nota1</td>\n",
       "      <td>Nota2</td>\n",
       "      <td>NotaE</td>\n",
       "      <td>Média</td>\n",
       "      <td>%Freq.</td>\n",
       "      <td>Cond.</td>\n",
       "    </tr>\n",
       "    <tr>\n",
       "      <th>1</th>\n",
       "      <td>203076</td>\n",
       "      <td>Orientação de Trabalho de Conclusão de Curso</td>\n",
       "      <td>A</td>\n",
       "      <td>2018</td>\n",
       "      <td>0</td>\n",
       "      <td></td>\n",
       "      <td></td>\n",
       "      <td></td>\n",
       "      <td>0</td>\n",
       "      <td>100</td>\n",
       "      <td>R</td>\n",
       "    </tr>\n",
       "    <tr>\n",
       "      <th>2</th>\n",
       "      <td>203069</td>\n",
       "      <td>Empreendedorismo</td>\n",
       "      <td>A</td>\n",
       "      <td>2018-1</td>\n",
       "      <td>0</td>\n",
       "      <td></td>\n",
       "      <td></td>\n",
       "      <td></td>\n",
       "      <td>0</td>\n",
       "      <td>100</td>\n",
       "      <td>R</td>\n",
       "    </tr>\n",
       "    <tr>\n",
       "      <th>3</th>\n",
       "      <td>203070</td>\n",
       "      <td>Computadores e Sociedade</td>\n",
       "      <td>A</td>\n",
       "      <td>2018-1</td>\n",
       "      <td>0</td>\n",
       "      <td></td>\n",
       "      <td></td>\n",
       "      <td></td>\n",
       "      <td>0</td>\n",
       "      <td>100</td>\n",
       "      <td>R</td>\n",
       "    </tr>\n",
       "    <tr>\n",
       "      <th>4</th>\n",
       "      <td>203082</td>\n",
       "      <td>Robótica</td>\n",
       "      <td>A</td>\n",
       "      <td>2018-1</td>\n",
       "      <td>4</td>\n",
       "      <td></td>\n",
       "      <td></td>\n",
       "      <td></td>\n",
       "      <td>0</td>\n",
       "      <td>94</td>\n",
       "      <td>R</td>\n",
       "    </tr>\n",
       "    <tr>\n",
       "      <th>5</th>\n",
       "      <td>203083</td>\n",
       "      <td>Modelagem e Simulação</td>\n",
       "      <td>A</td>\n",
       "      <td>2018-1</td>\n",
       "      <td>0</td>\n",
       "      <td></td>\n",
       "      <td></td>\n",
       "      <td></td>\n",
       "      <td>0</td>\n",
       "      <td>100</td>\n",
       "      <td>R</td>\n",
       "    </tr>\n",
       "    <tr>\n",
       "      <th>6</th>\n",
       "      <td>404055</td>\n",
       "      <td>Economia</td>\n",
       "      <td>A</td>\n",
       "      <td>2018-1</td>\n",
       "      <td>0</td>\n",
       "      <td></td>\n",
       "      <td></td>\n",
       "      <td></td>\n",
       "      <td>0</td>\n",
       "      <td>100</td>\n",
       "      <td>R</td>\n",
       "    </tr>\n",
       "    <tr>\n",
       "      <th>7</th>\n",
       "      <td>203127</td>\n",
       "      <td>Estágio Supervisionado</td>\n",
       "      <td>A</td>\n",
       "      <td>2018-2</td>\n",
       "      <td>0</td>\n",
       "      <td></td>\n",
       "      <td></td>\n",
       "      <td></td>\n",
       "      <td>0</td>\n",
       "      <td>100</td>\n",
       "      <td>R</td>\n",
       "    </tr>\n",
       "  </tbody>\n",
       "</table>\n",
       "</div>"
      ],
      "text/plain": [
       "       0                                             1      2           3   \\\n",
       "0  Código                                          Nome  Turma  Calendário   \n",
       "1  203076  Orientação de Trabalho de Conclusão de Curso      A        2018   \n",
       "2  203069                              Empreendedorismo      A      2018-1   \n",
       "3  203070                      Computadores e Sociedade      A      2018-1   \n",
       "4  203082                                      Robótica      A      2018-1   \n",
       "5  203083                         Modelagem e Simulação      A      2018-1   \n",
       "6  404055                                      Economia      A      2018-1   \n",
       "7  203127                        Estágio Supervisionado      A      2018-2   \n",
       "\n",
       "       4      5      6      7      8       9      10  \n",
       "0  Faltas  Nota1  Nota2  NotaE  Média  %Freq.  Cond.  \n",
       "1       0                           0     100      R  \n",
       "2       0                           0     100      R  \n",
       "3       0                           0     100      R  \n",
       "4       4                           0      94      R  \n",
       "5       0                           0     100      R  \n",
       "6       0                           0     100      R  \n",
       "7       0                           0     100      R  "
      ]
     },
     "execution_count": 12,
     "metadata": {},
     "output_type": "execute_result"
    }
   ],
   "source": [
    "df"
   ]
  },
  {
   "cell_type": "code",
   "execution_count": 13,
   "metadata": {},
   "outputs": [
    {
     "data": {
      "text/plain": [
       "0                                            Nome\n",
       "1    Orientação de Trabalho de Conclusão de Curso\n",
       "2                                Empreendedorismo\n",
       "3                        Computadores e Sociedade\n",
       "4                                        Robótica\n",
       "5                           Modelagem e Simulação\n",
       "6                                        Economia\n",
       "7                          Estágio Supervisionado\n",
       "Name: 1, dtype: object"
      ]
     },
     "execution_count": 13,
     "metadata": {},
     "output_type": "execute_result"
    }
   ],
   "source": [
    "df[1]"
   ]
  },
  {
   "cell_type": "code",
   "execution_count": 14,
   "metadata": {},
   "outputs": [
    {
     "data": {
      "text/plain": [
       "0    Faltas\n",
       "1         0\n",
       "2         0\n",
       "3         0\n",
       "4         4\n",
       "5         0\n",
       "6         0\n",
       "7         0\n",
       "Name: 4, dtype: object"
      ]
     },
     "execution_count": 14,
     "metadata": {},
     "output_type": "execute_result"
    }
   ],
   "source": [
    "df[4]"
   ]
  },
  {
   "cell_type": "code",
   "execution_count": 15,
   "metadata": {},
   "outputs": [],
   "source": [
    "df_n = list(df[[1, 4]].itertuples(index=False, name=None))[1:]"
   ]
  },
  {
   "cell_type": "code",
   "execution_count": 26,
   "metadata": {},
   "outputs": [],
   "source": [
    "dict_n = dict((x, y) for x, y in df_n)"
   ]
  },
  {
   "cell_type": "code",
   "execution_count": 27,
   "metadata": {},
   "outputs": [
    {
     "data": {
      "text/plain": [
       "{'Computadores e Sociedade': '0',\n",
       " 'Economia': '0',\n",
       " 'Empreendedorismo': '0',\n",
       " 'Estágio Supervisionado': '0',\n",
       " 'Modelagem e Simulação': '0',\n",
       " 'Orientação de Trabalho de Conclusão de Curso': '0',\n",
       " 'Robótica': '4'}"
      ]
     },
     "execution_count": 27,
     "metadata": {},
     "output_type": "execute_result"
    }
   ],
   "source": [
    "dict_n"
   ]
  },
  {
   "cell_type": "code",
   "execution_count": null,
   "metadata": {},
   "outputs": [],
   "source": []
  },
  {
   "cell_type": "code",
   "execution_count": null,
   "metadata": {},
   "outputs": [],
   "source": []
  }
 ],
 "metadata": {
  "kernelspec": {
   "display_name": "Python 3",
   "language": "python",
   "name": "python3"
  },
  "language_info": {
   "codemirror_mode": {
    "name": "ipython",
    "version": 3
   },
   "file_extension": ".py",
   "mimetype": "text/x-python",
   "name": "python",
   "nbconvert_exporter": "python",
   "pygments_lexer": "ipython3",
   "version": "3.6.4"
  }
 },
 "nbformat": 4,
 "nbformat_minor": 2
}
