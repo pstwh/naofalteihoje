{
 "cells": [
  {
   "cell_type": "code",
   "execution_count": 1,
   "metadata": {},
   "outputs": [],
   "source": [
    "import requests\n",
    "\n",
    "url = {\n",
    "    'index': \"https://sistemas.uepg.br/academicoonline/login/index\",\n",
    "    'auth': \"https://sistemas.uepg.br/academicoonline/login/authenticate\",\n",
    "    'home': \"https://sistemas.uepg.br/academicoonline\",\n",
    "    'notas': \"https://sistemas.uepg.br/academicoonline/avaliacaoDesempenho/index\"\n",
    "}\n",
    "\n",
    "user = {\n",
    "    'login': \"\",\n",
    "    'password': \"\"\n",
    "}\n",
    "\n",
    "with requests.Session() as session:\n",
    "    index = session.request(\"GET\", url['index'])\n",
    "    \n",
    "    headers = {\n",
    "        'cookie': f'JSESSIONID={requests.utils.dict_from_cookiejar(session.cookies)[\"JSESSIONID\"]}; __utma=241181661.1990841241.1518980587.1520085361.1520277780.4; __utmz=241181661.1518980587.1.1.utmcsr=(direct)|utmccn=(direct)|utmcmd=(none)',\n",
    "        'connection': 'keep-alive',\n",
    "        'upgrade-insecure-requests': \"1\"\n",
    "    }\n",
    "    \n",
    "    auth = session.request(\"POST\", url['auth'], user, headers=headers)\n",
    "    notas = session.request(\"GET\", url['notas'], headers=headers)\n"
   ]
  },
  {
   "cell_type": "code",
   "execution_count": 2,
   "metadata": {},
   "outputs": [],
   "source": [
    "from bs4 import BeautifulSoup"
   ]
  },
  {
   "cell_type": "code",
   "execution_count": 3,
   "metadata": {},
   "outputs": [],
   "source": [
    "soup = BeautifulSoup(notas.text, 'html.parser')"
   ]
  },
  {
   "cell_type": "code",
   "execution_count": 4,
   "metadata": {},
   "outputs": [],
   "source": [
    "table = soup.find('table')"
   ]
  },
  {
   "cell_type": "code",
   "execution_count": 5,
   "metadata": {},
   "outputs": [],
   "source": [
    "from IPython.core.display import HTML"
   ]
  },
  {
   "cell_type": "code",
   "execution_count": 6,
   "metadata": {},
   "outputs": [
    {
     "data": {
      "text/html": [
       "<table class=\"table table-striped table-bordered\">\n",
       "<thead>\n",
       "<tr>\n",
       "<th>Código</th>\n",
       "<th>Nome</th>\n",
       "<th>Turma</th>\n",
       "<th>Calendário</th>\n",
       "<th>Faltas</th>\n",
       "<th>Nota1</th>\n",
       "<th>Nota2</th>\n",
       "<th>NotaE</th>\n",
       "<th>Média</th>\n",
       "<th>%Freq.</th>\n",
       "<th>Cond.</th>\n",
       "</tr>\n",
       "</thead>\n",
       "<tbody>\n",
       "<tr class=\"even\">\n",
       "<td>203076</td>\n",
       "<td style=\"width: 600px;\">Orientação de Trabalho de Conclusão de Curso</td>\n",
       "<td>A</td>\n",
       "<td style=\"width: 130px;\">2018</td>\n",
       "<td>0</td>\n",
       "<td style=\"color:blue;\"></td>\n",
       "<td style=\"color:blue;\"></td>\n",
       "<td style=\"color:blue;\"></td>\n",
       "<td>0</td>\n",
       "<td>100</td>\n",
       "<td>R</td>\n",
       "</tr>\n",
       "<tr class=\"odd\">\n",
       "<td>203069</td>\n",
       "<td style=\"width: 600px;\">Empreendedorismo</td>\n",
       "<td>A</td>\n",
       "<td style=\"width: 130px;\">2018-1</td>\n",
       "<td>0</td>\n",
       "<td style=\"color:blue;\"></td>\n",
       "<td style=\"color:blue;\"></td>\n",
       "<td style=\"color:blue;\"></td>\n",
       "<td>0</td>\n",
       "<td>100</td>\n",
       "<td>R</td>\n",
       "</tr>\n",
       "<tr class=\"even\">\n",
       "<td>203070</td>\n",
       "<td style=\"width: 600px;\">Computadores e Sociedade</td>\n",
       "<td>A</td>\n",
       "<td style=\"width: 130px;\">2018-1</td>\n",
       "<td>0</td>\n",
       "<td style=\"color:blue;\"></td>\n",
       "<td style=\"color:blue;\"></td>\n",
       "<td style=\"color:blue;\"></td>\n",
       "<td>0</td>\n",
       "<td>100</td>\n",
       "<td>R</td>\n",
       "</tr>\n",
       "<tr class=\"odd\">\n",
       "<td>203082</td>\n",
       "<td style=\"width: 600px;\">Robótica</td>\n",
       "<td>A</td>\n",
       "<td style=\"width: 130px;\">2018-1</td>\n",
       "<td>4</td>\n",
       "<td style=\"color:blue;\"></td>\n",
       "<td style=\"color:blue;\"></td>\n",
       "<td style=\"color:blue;\"></td>\n",
       "<td>0</td>\n",
       "<td>94</td>\n",
       "<td>R</td>\n",
       "</tr>\n",
       "<tr class=\"even\">\n",
       "<td>203083</td>\n",
       "<td style=\"width: 600px;\">Modelagem e Simulação</td>\n",
       "<td>A</td>\n",
       "<td style=\"width: 130px;\">2018-1</td>\n",
       "<td>0</td>\n",
       "<td style=\"color:blue;\"></td>\n",
       "<td style=\"color:blue;\"></td>\n",
       "<td style=\"color:blue;\"></td>\n",
       "<td>0</td>\n",
       "<td>100</td>\n",
       "<td>R</td>\n",
       "</tr>\n",
       "<tr class=\"odd\">\n",
       "<td>404055</td>\n",
       "<td style=\"width: 600px;\">Economia</td>\n",
       "<td>A</td>\n",
       "<td style=\"width: 130px;\">2018-1</td>\n",
       "<td>0</td>\n",
       "<td style=\"color:blue;\"></td>\n",
       "<td style=\"color:blue;\"></td>\n",
       "<td style=\"color:blue;\"></td>\n",
       "<td>0</td>\n",
       "<td>100</td>\n",
       "<td>R</td>\n",
       "</tr>\n",
       "<tr class=\"even\">\n",
       "<td>203127</td>\n",
       "<td style=\"width: 600px;\">Estágio Supervisionado</td>\n",
       "<td>A</td>\n",
       "<td style=\"width: 130px;\">2018-2</td>\n",
       "<td>0</td>\n",
       "<td style=\"color:blue;\"></td>\n",
       "<td style=\"color:blue;\"></td>\n",
       "<td style=\"color:blue;\"></td>\n",
       "<td>0</td>\n",
       "<td>100</td>\n",
       "<td>R</td>\n",
       "</tr>\n",
       "</tbody>\n",
       "</table>"
      ],
      "text/plain": [
       "<IPython.core.display.HTML object>"
      ]
     },
     "execution_count": 6,
     "metadata": {},
     "output_type": "execute_result"
    }
   ],
   "source": [
    "HTML(str(table))"
   ]
  },
  {
   "cell_type": "code",
   "execution_count": null,
   "metadata": {},
   "outputs": [],
   "source": []
  }
 ],
 "metadata": {
  "kernelspec": {
   "display_name": "Python 3",
   "language": "python",
   "name": "python3"
  },
  "language_info": {
   "codemirror_mode": {
    "name": "ipython",
    "version": 3
   },
   "file_extension": ".py",
   "mimetype": "text/x-python",
   "name": "python",
   "nbconvert_exporter": "python",
   "pygments_lexer": "ipython3",
   "version": "3.6.4"
  }
 },
 "nbformat": 4,
 "nbformat_minor": 2
}
